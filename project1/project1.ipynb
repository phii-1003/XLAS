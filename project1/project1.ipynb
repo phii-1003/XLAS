{
 "cells": [
  {
   "cell_type": "markdown",
   "metadata": {},
   "source": [
    "Họ và tên:  Bùi Hoàng Phi  \n",
    "MSSV:       2011799\n",
    "# **Xử lí ảnh số và thị giác máy tính**\n",
    "**Project 1: Grayscale and color image**"
   ]
  },
  {
   "cell_type": "markdown",
   "metadata": {},
   "source": [
    "# Công thức \n",
    "## Chuyển đổi từ ảnh màu sang ảnh xám\n",
    "Với grayscale là giá trị của pixel ảnh xám, còn R, G, B là các giá trị pixel ảnh màu tương ứng, ta có:\n",
    "- Công thức với các trọng số:\n",
    "$$\n",
    "    Grayscale = 0.299R + 0.587G + 0.114B\n",
    "$$\n",
    "- Công thức lấy giá trị trung bình:\n",
    "$$\n",
    "    Grayscale = \\frac{R + G + B}{3}\n",
    "$$\n",
    "## Chuyển đổi từ ảnh xám thành ảnh màu\n",
    "Vì không có công thức cụ thể cho việc kết hợp màu nên ở bài này, tôi sẽ thực hiện lấy giá trị grayscale của công thức với các trọng số nhân với trọng số bất kì và thực hiện lấy phần dư với 255 làm giá trị pixel cho ảnh màu R, G, B.\n",
    "Với \n",
    "$$\n",
    "    Grayscale = 0.299R + 0.587G + 0.114B\n",
    "$$\n",
    "Thì mỗi pixel trong ảnh được chuyển thành ảnh màu sẽ có giá trị px: (a x Grayscale, b x Grayscale, c x Grayscale)\n"
   ]
  },
  {
   "cell_type": "markdown",
   "metadata": {},
   "source": [
    "# Hiện thực"
   ]
  },
  {
   "cell_type": "markdown",
   "metadata": {},
   "source": [
    "# Hiện thực"
   ]
  },
  {
   "cell_type": "code",
   "execution_count": null,
   "metadata": {
    "vscode": {
     "languageId": "plaintext"
    }
   },
   "outputs": [],
   "source": [
    "import cv2\n",
    "import numpy as np"
   ]
  },
  {
   "cell_type": "code",
   "execution_count": null,
   "metadata": {
    "vscode": {
     "languageId": "plaintext"
    }
   },
   "outputs": [],
   "source": [
    "#show original image\n",
    "original_img = cv2.imread(\"cat.jpg\")\n",
    "print(original_img)\n",
    "cv2.imshow(\"original image\", original_img)\n",
    "cv2.waitKey(0) \n",
    "cv2.destroyAllWindows() "
   ]
  },
  {
   "cell_type": "code",
   "execution_count": null,
   "metadata": {
    "vscode": {
     "languageId": "plaintext"
    }
   },
   "outputs": [],
   "source": [
    "r,g,b = original_img[:,:,0], original_img[:,:,1], original_img[:,:,2]"
   ]
  },
  {
   "cell_type": "code",
   "execution_count": null,
   "metadata": {
    "vscode": {
     "languageId": "plaintext"
    }
   },
   "outputs": [],
   "source": [
    "#công thức với các trọng số\n",
    "gray_1 = .299 * r + .587 * g + .114 * b\n",
    "weighted_gray = gray_1.astype(np.uint8)\n",
    "print(weighted_gray)\n",
    "cv2.imshow(\"weighted grayscale image\", weighted_gray)\n",
    "cv2.waitKey(0) \n",
    "cv2.destroyAllWindows() "
   ]
  },
  {
   "cell_type": "code",
   "execution_count": null,
   "metadata": {
    "vscode": {
     "languageId": "plaintext"
    }
   },
   "outputs": [],
   "source": [
    "#công thức trung bình\n",
    "gray_2 = (r+g+b)/3\n",
    "average_grayscale = gray_2.astype(np.uint8)\n",
    "print(average_grayscale)\n",
    "cv2.imshow(\"weighted grayscale image\", average_grayscale)\n",
    "cv2.waitKey(0) \n",
    "cv2.destroyAllWindows() "
   ]
  },
  {
   "cell_type": "markdown",
   "metadata": {},
   "source": [
    "## Chuyển đổi ảnh xám thành ảnh màu"
   ]
  },
  {
   "cell_type": "code",
   "execution_count": null,
   "metadata": {
    "vscode": {
     "languageId": "plaintext"
    }
   },
   "outputs": [],
   "source": [
    "# tạo ảnh màu với a, b, c = (20/mean, 30/mean, 50/mean) với mean là trung bình các giá trị trong ma trận Grayscale\n",
    "# với a, b, c = (1,1,1), out_put sẽ là ảnh màu tương đương với ảnh xám\n",
    "img_out = np.empty_like(original_img, dtype=np.uint8)\n",
    "mean = np.mean(gray_1)\n",
    "print(mean)\n",
    "img_out[:, :, 0] = np.minimum(gray_1*20/mean,255).astype(np.uint8)\n",
    "img_out[:, :, 1] = np.minimum(gray_1*30/mean,255).astype(np.uint8)\n",
    "img_out[:, :, 2] = np.minimum(gray_1*50/mean,255).astype(np.uint8)\n",
    "print(img_out)\n",
    "cv2.imshow(\"colored image\", img_out)\n",
    "cv2.waitKey(0) \n",
    "cv2.destroyAllWindows() "
   ]
  },
  {
   "cell_type": "markdown",
   "metadata": {},
   "source": [
    "# Nhận xét\n",
    "- Đối với việc chuyển ảnh màu thành ảnh xám. Đó là phương pháp tính trung bình, phương pháp tính trung bình min, max và phương pháp sử dụng công thức có sẵn được các nghiên cứu trước đây chỉ ra.\n",
    "- Bài tập này, tôi sử dụng phương pháp tính trung bình và sử dụng công thức có sẵn, kết quả cho thấu khi sử dụng công thức trung bình, kết quả cho được khá tối so với ảnh sử dụng công thức có sẵn\n",
    "- Đối với việc chuyển ảnh xám thành ảnh màu, việc sử dụng các công thức toán học rất khó để tái tạo lại ảnh màu ban đầu nếu chỉ có ma trận giá trị màu xám, sử dụng các tham số khi hiện thực chỉ đơn thuần là thêm bộ lọc màu cho bức ảnh xám ban đầu"
   ]
  },
  {
   "cell_type": "markdown",
   "metadata": {},
   "source": [
    "# Kết luận\n",
    "Với bài tập này, hai nhiệm vụ bao gồm tạo ảnh xám từ ảnh màu và ngược lại,kết hợp các kênh màu để tái tạo lại ảnh màu từ các ảnh xám đã được hoàn thành. Qua đó, bài tập giúp tôi làm quen một số kỹ thuật xử lý ảnh, sử dụng thư viện, là bước đầu cho các tác vụ xử lý và phân tích hình ảnh phức tạp hơn ở giai đoạn sau của môn học."
   ]
  },
  {
   "cell_type": "markdown",
   "metadata": {},
   "source": [
    "# Repository\n",
    "https://github.com/phii-1003/XLAS.git"
   ]
  }
 ],
 "metadata": {
  "language_info": {
   "name": "python"
  }
 },
 "nbformat": 4,
 "nbformat_minor": 2
}
