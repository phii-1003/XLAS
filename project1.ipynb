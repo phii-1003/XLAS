{
 "cells": [
  {
   "cell_type": "markdown",
   "metadata": {},
   "source": [
    "**Project 1: Grayscale and color image**"
   ]
  },
  {
   "cell_type": "markdown",
   "metadata": {},
   "source": [
    "# Công thức \n",
    "## Chuyển đổi từ ảnh màu sang ảnh xám\n",
    "Với grayscale là giá trị của pixel ảnh xám, còn R, G, B là các giá trị pixel ảnh màu tương ứng, ta có:\n",
    "- Công thức với các trọng số:\n",
    "$$\n",
    "    Grayscale = 0.299R + 0.587G + 0.114B\n",
    "$$\n",
    "- Công thức lấy giá trị trung bình:\n",
    "$$\n",
    "    Grayscale = \\frac{R + G + B}{3}\n",
    "$$\n",
    "## Chuyển đổi từ ảnh xám thành ảnh màu\n",
    "Vì không có công thức cụ thể cho việc kết hợp màu nên ở bài này, tôi sẽ thực hiện lấy giá trị grayscale của công thức với các trọng số nhân với trọng số bất kì và thực hiện lấy phần dư với 255 làm giá trị pixel cho ảnh màu R, G, B.\n",
    "Với \n",
    "$$\n",
    "    Grayscale = 0.299R + 0.587G + 0.114B\n",
    "$$\n",
    "Thì mỗi pixel trong ảnh được chuyển thành ảnh màu sẽ có giá trị px: (a x Grayscale, b x Grayscale, c x Grayscale)\n"
   ]
  },
  {
   "cell_type": "markdown",
   "metadata": {},
   "source": [
    "# Hiện thực"
   ]
  },
  {
   "cell_type": "markdown",
   "metadata": {},
   "source": [
    "Chuyển đổi ảnh màu thành ảnh xám"
   ]
  },
  {
   "cell_type": "code",
   "execution_count": 10,
   "metadata": {},
   "outputs": [],
   "source": [
    "import cv2\n",
    "import numpy as np"
   ]
  },
  {
   "cell_type": "code",
   "execution_count": 16,
   "metadata": {},
   "outputs": [
    {
     "name": "stdout",
     "output_type": "stream",
     "text": [
      "[[[231 144  70]\n",
      "  [231 144  70]\n",
      "  [231 145  69]\n",
      "  ...\n",
      "  [ 30  33  18]\n",
      "  [ 33  33  19]\n",
      "  [ 34  34  22]]\n",
      "\n",
      " [[230 143  69]\n",
      "  [230 144  68]\n",
      "  [230 144  68]\n",
      "  ...\n",
      "  [ 30  33  18]\n",
      "  [ 32  32  18]\n",
      "  [ 32  32  20]]\n",
      "\n",
      " [[230 144  68]\n",
      "  [230 144  68]\n",
      "  [230 144  68]\n",
      "  ...\n",
      "  [ 30  33  18]\n",
      "  [ 31  31  19]\n",
      "  [ 30  30  18]]\n",
      "\n",
      " ...\n",
      "\n",
      " [[ 14  31  18]\n",
      "  [ 14  31  18]\n",
      "  [ 14  31  18]\n",
      "  ...\n",
      "  [ 51 111  87]\n",
      "  [ 59 120  94]\n",
      "  [ 62 123  97]]\n",
      "\n",
      " [[ 14  31  18]\n",
      "  [ 14  31  18]\n",
      "  [ 14  31  18]\n",
      "  ...\n",
      "  [ 59 120  92]\n",
      "  [ 64 125  97]\n",
      "  [ 64 126  96]]\n",
      "\n",
      " [[ 14  31  18]\n",
      "  [ 14  31  18]\n",
      "  [ 14  31  18]\n",
      "  ...\n",
      "  [ 64 128  98]\n",
      "  [ 67 131 101]\n",
      "  [ 67 130  98]]]\n"
     ]
    }
   ],
   "source": [
    "#show original image\n",
    "original_img = cv2.imread(\"cat.jpg\")\n",
    "print(original_img)\n",
    "# cv2.imshow(\"original image\", original_img)\n",
    "# cv2.waitKey(0) \n",
    "# cv2.destroyAllWindows() "
   ]
  },
  {
   "cell_type": "code",
   "execution_count": 21,
   "metadata": {},
   "outputs": [
    {
     "name": "stdout",
     "output_type": "stream",
     "text": [
      "117.94\n"
     ]
    }
   ],
   "source": [
    "r,g,b = original_img[:,:,0], original_img[:,:,1], original_img[:,:,2]"
   ]
  },
  {
   "cell_type": "code",
   "execution_count": 15,
   "metadata": {},
   "outputs": [
    {
     "name": "stdout",
     "output_type": "stream",
     "text": [
      "[[161 161 162 ...  30  31  32]\n",
      " [160 161 161 ...  30  30  30]\n",
      " [161 161 161 ...  30  29  28]\n",
      " ...\n",
      " [ 24  24  24 ...  90  98 101]\n",
      " [ 24  24  24 ...  98 103 104]\n",
      " [ 24  24  24 ... 105 108 107]]\n"
     ]
    }
   ],
   "source": [
    "#công thức với các trọng số\n",
    "gray_1 = .299 * r + .587 * g + .114 * b\n",
    "weighted_gray = gray_1.astype(np.uint8)\n",
    "print(weighted_gray)\n",
    "cv2.imshow(\"weighted grayscale image\", weighted_gray)\n",
    "cv2.waitKey(0) \n",
    "cv2.destroyAllWindows() "
   ]
  },
  {
   "cell_type": "code",
   "execution_count": 14,
   "metadata": {},
   "outputs": [
    {
     "name": "stdout",
     "output_type": "stream",
     "text": [
      "[[63 63 63 ... 27 28 30]\n",
      " [62 62 62 ... 27 27 28]\n",
      " [62 62 62 ... 27 27 26]\n",
      " ...\n",
      " [21 21 21 ... 83  5  8]\n",
      " [21 21 21 ...  5 10 10]\n",
      " [21 21 21 ... 11 14 13]]\n"
     ]
    }
   ],
   "source": [
    "#công thức trung bình\n",
    "gray_2 = (r+g+b)/3\n",
    "average_grayscale = gray_2.astype(np.uint8)\n",
    "print(average_grayscale)\n",
    "cv2.imshow(\"weighted grayscale image\", average_grayscale)\n",
    "cv2.waitKey(0) \n",
    "cv2.destroyAllWindows() "
   ]
  },
  {
   "cell_type": "markdown",
   "metadata": {},
   "source": [
    "Chuyển đổi ảnh xám thành ảnh màu"
   ]
  },
  {
   "cell_type": "code",
   "execution_count": 28,
   "metadata": {},
   "outputs": [
    {
     "name": "stdout",
     "output_type": "stream",
     "text": [
      "87.58151079234175\n",
      "[[[110  55  92]\n",
      "  [110  55  92]\n",
      "  [111  55  92]\n",
      "  ...\n",
      "  [ 20  10  17]\n",
      "  [ 21  10  17]\n",
      "  [ 22  11  18]]\n",
      "\n",
      " [[109  54  91]\n",
      "  [110  55  91]\n",
      "  [110  55  91]\n",
      "  ...\n",
      "  [ 20  10  17]\n",
      "  [ 20  10  17]\n",
      "  [ 20  10  17]]\n",
      "\n",
      " [[110  55  91]\n",
      "  [110  55  91]\n",
      "  [110  55  91]\n",
      "  ...\n",
      "  [ 20  10  17]\n",
      "  [ 20  10  16]\n",
      "  [ 19   9  16]]\n",
      "\n",
      " ...\n",
      "\n",
      " [[ 16   8  13]\n",
      "  [ 16   8  13]\n",
      "  [ 16   8  13]\n",
      "  ...\n",
      "  [ 61  30  51]\n",
      "  [ 67  33  56]\n",
      "  [ 69  34  58]]\n",
      "\n",
      " [[ 16   8  13]\n",
      "  [ 16   8  13]\n",
      "  [ 16   8  13]\n",
      "  ...\n",
      "  [ 67  33  56]\n",
      "  [ 70  35  59]\n",
      "  [ 71  35  59]]\n",
      "\n",
      " [[ 16   8  13]\n",
      "  [ 16   8  13]\n",
      "  [ 16   8  13]\n",
      "  ...\n",
      "  [ 72  36  60]\n",
      "  [ 74  37  61]\n",
      "  [ 73  36  61]]]\n"
     ]
    }
   ],
   "source": [
    "# tạo ảnh màu với a, b, c = (20/mean, 30/mean, 50/mean) với mean là trung bình các giá trị trong ma trận Grayscale\n",
    "# với a, b, c = (1,1,1), out_put sẽ là ảnh màu tương đương với ảnh xám\n",
    "img_out = np.empty_like(original_img, dtype=np.uint8)\n",
    "mean = np.mean(gray_1)\n",
    "print(mean)\n",
    "img_out[:, :, 0] = np.minimum(gray_1*20/mean,255).astype(np.uint8)\n",
    "img_out[:, :, 1] = np.minimum(gray_1*30/mean,255).astype(np.uint8)\n",
    "img_out[:, :, 2] = np.minimum(gray_1*50/mean,255).astype(np.uint8)\n",
    "print(img_out)\n",
    "cv2.imshow(\"colored image\", img_out)\n",
    "cv2.waitKey(0) \n",
    "cv2.destroyAllWindows() "
   ]
  }
 ],
 "metadata": {
  "kernelspec": {
   "display_name": "Python 3",
   "language": "python",
   "name": "python3"
  },
  "language_info": {
   "codemirror_mode": {
    "name": "ipython",
    "version": 3
   },
   "file_extension": ".py",
   "mimetype": "text/x-python",
   "name": "python",
   "nbconvert_exporter": "python",
   "pygments_lexer": "ipython3",
   "version": "3.10.6"
  }
 },
 "nbformat": 4,
 "nbformat_minor": 2
}
